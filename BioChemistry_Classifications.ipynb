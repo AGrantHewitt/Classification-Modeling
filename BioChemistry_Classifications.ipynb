{
  "nbformat": 4,
  "nbformat_minor": 0,
  "metadata": {
    "colab": {
      "name": "BioChemistry Classifications.ipynb",
      "provenance": [],
      "mount_file_id": "1RNiPne0uCFfLq2BsqZOomvjueQqGgllZ",
      "authorship_tag": "ABX9TyNWnil9nwSM+hWe+VJLrGFV",
      "include_colab_link": true
    },
    "kernelspec": {
      "name": "python3",
      "display_name": "Python 3"
    },
    "language_info": {
      "name": "python"
    }
  },
  "cells": [
    {
      "cell_type": "markdown",
      "metadata": {
        "id": "view-in-github",
        "colab_type": "text"
      },
      "source": [
        "<a href=\"https://colab.research.google.com/github/AGrantHewitt/Classification-Modeling/blob/main/BioChemistry_Classifications.ipynb\" target=\"_parent\"><img src=\"https://colab.research.google.com/assets/colab-badge.svg\" alt=\"Open In Colab\"/></a>"
      ]
    },
    {
      "cell_type": "code",
      "source": [
        "import pandas as pd\n",
        "import seaborn as sns\n",
        "import matplotlib.pyplot as plt\n"
      ],
      "metadata": {
        "id": "5F0M3JQurLV9"
      },
      "execution_count": 35,
      "outputs": []
    },
    {
      "cell_type": "code",
      "execution_count": 36,
      "metadata": {
        "colab": {
          "base_uri": "https://localhost:8080/",
          "height": 267
        },
        "id": "iC8yRYtDVFUv",
        "outputId": "9488226e-cb33-4f46-8e6f-22cd2342f0fd"
      },
      "outputs": [
        {
          "output_type": "execute_result",
          "data": {
            "text/plain": [
              "     Compound   A   B  In literature v(A) v(B)  r(AXII)(Å)  r(AVI)(Å)  \\\n",
              "5324    ZrWO3  Zr   W          False    1    5        0.89       0.72   \n",
              "5325    ZrYO3  Zr   Y          False    -    -        0.89       0.72   \n",
              "5326   ZrYbO3  Zr  Yb          False    -    -        0.89       0.72   \n",
              "5327   ZrZnO3  Zr  Zn          False    -    -        0.89       0.72   \n",
              "5328    Zr2O3  Zr  Zr          False    -    -        0.89       0.72   \n",
              "\n",
              "      r(BVI)(Å)  EN(A)  EN(B)  l(A-O)(Å)  l(B-O)(Å)      ΔENR        tG  \\\n",
              "5324       0.62   1.33   2.36    2.38342   1.745600 -1.572214  0.801621   \n",
              "5325       0.90   1.33   1.22    2.38342   2.235124 -2.489571  0.704032   \n",
              "5326       0.95   1.33   1.10    2.38342   2.223981 -2.626821  0.689053   \n",
              "5327       0.74   1.33   1.65    2.38342   2.096141 -2.035750  0.756670   \n",
              "5328       0.72   1.33   1.33    2.38342   2.043778 -2.097821  0.763809   \n",
              "\n",
              "                τ         μ Lowest distortion  \n",
              "5324  5.228952455  0.442857             cubic  \n",
              "5325            -  0.642857             cubic  \n",
              "5326            -  0.678571      orthorhombic  \n",
              "5327            -  0.528571             cubic  \n",
              "5328            -  0.514286             cubic  "
            ],
            "text/html": [
              "\n",
              "  <div id=\"df-25e8a8e0-1ab8-4122-8479-df2da1f7facb\">\n",
              "    <div class=\"colab-df-container\">\n",
              "      <div>\n",
              "<style scoped>\n",
              "    .dataframe tbody tr th:only-of-type {\n",
              "        vertical-align: middle;\n",
              "    }\n",
              "\n",
              "    .dataframe tbody tr th {\n",
              "        vertical-align: top;\n",
              "    }\n",
              "\n",
              "    .dataframe thead th {\n",
              "        text-align: right;\n",
              "    }\n",
              "</style>\n",
              "<table border=\"1\" class=\"dataframe\">\n",
              "  <thead>\n",
              "    <tr style=\"text-align: right;\">\n",
              "      <th></th>\n",
              "      <th>Compound</th>\n",
              "      <th>A</th>\n",
              "      <th>B</th>\n",
              "      <th>In literature</th>\n",
              "      <th>v(A)</th>\n",
              "      <th>v(B)</th>\n",
              "      <th>r(AXII)(Å)</th>\n",
              "      <th>r(AVI)(Å)</th>\n",
              "      <th>r(BVI)(Å)</th>\n",
              "      <th>EN(A)</th>\n",
              "      <th>EN(B)</th>\n",
              "      <th>l(A-O)(Å)</th>\n",
              "      <th>l(B-O)(Å)</th>\n",
              "      <th>ΔENR</th>\n",
              "      <th>tG</th>\n",
              "      <th>τ</th>\n",
              "      <th>μ</th>\n",
              "      <th>Lowest distortion</th>\n",
              "    </tr>\n",
              "  </thead>\n",
              "  <tbody>\n",
              "    <tr>\n",
              "      <th>5324</th>\n",
              "      <td>ZrWO3</td>\n",
              "      <td>Zr</td>\n",
              "      <td>W</td>\n",
              "      <td>False</td>\n",
              "      <td>1</td>\n",
              "      <td>5</td>\n",
              "      <td>0.89</td>\n",
              "      <td>0.72</td>\n",
              "      <td>0.62</td>\n",
              "      <td>1.33</td>\n",
              "      <td>2.36</td>\n",
              "      <td>2.38342</td>\n",
              "      <td>1.745600</td>\n",
              "      <td>-1.572214</td>\n",
              "      <td>0.801621</td>\n",
              "      <td>5.228952455</td>\n",
              "      <td>0.442857</td>\n",
              "      <td>cubic</td>\n",
              "    </tr>\n",
              "    <tr>\n",
              "      <th>5325</th>\n",
              "      <td>ZrYO3</td>\n",
              "      <td>Zr</td>\n",
              "      <td>Y</td>\n",
              "      <td>False</td>\n",
              "      <td>-</td>\n",
              "      <td>-</td>\n",
              "      <td>0.89</td>\n",
              "      <td>0.72</td>\n",
              "      <td>0.90</td>\n",
              "      <td>1.33</td>\n",
              "      <td>1.22</td>\n",
              "      <td>2.38342</td>\n",
              "      <td>2.235124</td>\n",
              "      <td>-2.489571</td>\n",
              "      <td>0.704032</td>\n",
              "      <td>-</td>\n",
              "      <td>0.642857</td>\n",
              "      <td>cubic</td>\n",
              "    </tr>\n",
              "    <tr>\n",
              "      <th>5326</th>\n",
              "      <td>ZrYbO3</td>\n",
              "      <td>Zr</td>\n",
              "      <td>Yb</td>\n",
              "      <td>False</td>\n",
              "      <td>-</td>\n",
              "      <td>-</td>\n",
              "      <td>0.89</td>\n",
              "      <td>0.72</td>\n",
              "      <td>0.95</td>\n",
              "      <td>1.33</td>\n",
              "      <td>1.10</td>\n",
              "      <td>2.38342</td>\n",
              "      <td>2.223981</td>\n",
              "      <td>-2.626821</td>\n",
              "      <td>0.689053</td>\n",
              "      <td>-</td>\n",
              "      <td>0.678571</td>\n",
              "      <td>orthorhombic</td>\n",
              "    </tr>\n",
              "    <tr>\n",
              "      <th>5327</th>\n",
              "      <td>ZrZnO3</td>\n",
              "      <td>Zr</td>\n",
              "      <td>Zn</td>\n",
              "      <td>False</td>\n",
              "      <td>-</td>\n",
              "      <td>-</td>\n",
              "      <td>0.89</td>\n",
              "      <td>0.72</td>\n",
              "      <td>0.74</td>\n",
              "      <td>1.33</td>\n",
              "      <td>1.65</td>\n",
              "      <td>2.38342</td>\n",
              "      <td>2.096141</td>\n",
              "      <td>-2.035750</td>\n",
              "      <td>0.756670</td>\n",
              "      <td>-</td>\n",
              "      <td>0.528571</td>\n",
              "      <td>cubic</td>\n",
              "    </tr>\n",
              "    <tr>\n",
              "      <th>5328</th>\n",
              "      <td>Zr2O3</td>\n",
              "      <td>Zr</td>\n",
              "      <td>Zr</td>\n",
              "      <td>False</td>\n",
              "      <td>-</td>\n",
              "      <td>-</td>\n",
              "      <td>0.89</td>\n",
              "      <td>0.72</td>\n",
              "      <td>0.72</td>\n",
              "      <td>1.33</td>\n",
              "      <td>1.33</td>\n",
              "      <td>2.38342</td>\n",
              "      <td>2.043778</td>\n",
              "      <td>-2.097821</td>\n",
              "      <td>0.763809</td>\n",
              "      <td>-</td>\n",
              "      <td>0.514286</td>\n",
              "      <td>cubic</td>\n",
              "    </tr>\n",
              "  </tbody>\n",
              "</table>\n",
              "</div>\n",
              "      <button class=\"colab-df-convert\" onclick=\"convertToInteractive('df-25e8a8e0-1ab8-4122-8479-df2da1f7facb')\"\n",
              "              title=\"Convert this dataframe to an interactive table.\"\n",
              "              style=\"display:none;\">\n",
              "        \n",
              "  <svg xmlns=\"http://www.w3.org/2000/svg\" height=\"24px\"viewBox=\"0 0 24 24\"\n",
              "       width=\"24px\">\n",
              "    <path d=\"M0 0h24v24H0V0z\" fill=\"none\"/>\n",
              "    <path d=\"M18.56 5.44l.94 2.06.94-2.06 2.06-.94-2.06-.94-.94-2.06-.94 2.06-2.06.94zm-11 1L8.5 8.5l.94-2.06 2.06-.94-2.06-.94L8.5 2.5l-.94 2.06-2.06.94zm10 10l.94 2.06.94-2.06 2.06-.94-2.06-.94-.94-2.06-.94 2.06-2.06.94z\"/><path d=\"M17.41 7.96l-1.37-1.37c-.4-.4-.92-.59-1.43-.59-.52 0-1.04.2-1.43.59L10.3 9.45l-7.72 7.72c-.78.78-.78 2.05 0 2.83L4 21.41c.39.39.9.59 1.41.59.51 0 1.02-.2 1.41-.59l7.78-7.78 2.81-2.81c.8-.78.8-2.07 0-2.86zM5.41 20L4 18.59l7.72-7.72 1.47 1.35L5.41 20z\"/>\n",
              "  </svg>\n",
              "      </button>\n",
              "      \n",
              "  <style>\n",
              "    .colab-df-container {\n",
              "      display:flex;\n",
              "      flex-wrap:wrap;\n",
              "      gap: 12px;\n",
              "    }\n",
              "\n",
              "    .colab-df-convert {\n",
              "      background-color: #E8F0FE;\n",
              "      border: none;\n",
              "      border-radius: 50%;\n",
              "      cursor: pointer;\n",
              "      display: none;\n",
              "      fill: #1967D2;\n",
              "      height: 32px;\n",
              "      padding: 0 0 0 0;\n",
              "      width: 32px;\n",
              "    }\n",
              "\n",
              "    .colab-df-convert:hover {\n",
              "      background-color: #E2EBFA;\n",
              "      box-shadow: 0px 1px 2px rgba(60, 64, 67, 0.3), 0px 1px 3px 1px rgba(60, 64, 67, 0.15);\n",
              "      fill: #174EA6;\n",
              "    }\n",
              "\n",
              "    [theme=dark] .colab-df-convert {\n",
              "      background-color: #3B4455;\n",
              "      fill: #D2E3FC;\n",
              "    }\n",
              "\n",
              "    [theme=dark] .colab-df-convert:hover {\n",
              "      background-color: #434B5C;\n",
              "      box-shadow: 0px 1px 3px 1px rgba(0, 0, 0, 0.15);\n",
              "      filter: drop-shadow(0px 1px 2px rgba(0, 0, 0, 0.3));\n",
              "      fill: #FFFFFF;\n",
              "    }\n",
              "  </style>\n",
              "\n",
              "      <script>\n",
              "        const buttonEl =\n",
              "          document.querySelector('#df-25e8a8e0-1ab8-4122-8479-df2da1f7facb button.colab-df-convert');\n",
              "        buttonEl.style.display =\n",
              "          google.colab.kernel.accessAllowed ? 'block' : 'none';\n",
              "\n",
              "        async function convertToInteractive(key) {\n",
              "          const element = document.querySelector('#df-25e8a8e0-1ab8-4122-8479-df2da1f7facb');\n",
              "          const dataTable =\n",
              "            await google.colab.kernel.invokeFunction('convertToInteractive',\n",
              "                                                     [key], {});\n",
              "          if (!dataTable) return;\n",
              "\n",
              "          const docLinkHtml = 'Like what you see? Visit the ' +\n",
              "            '<a target=\"_blank\" href=https://colab.research.google.com/notebooks/data_table.ipynb>data table notebook</a>'\n",
              "            + ' to learn more about interactive tables.';\n",
              "          element.innerHTML = '';\n",
              "          dataTable['output_type'] = 'display_data';\n",
              "          await google.colab.output.renderOutput(dataTable, element);\n",
              "          const docLink = document.createElement('div');\n",
              "          docLink.innerHTML = docLinkHtml;\n",
              "          element.appendChild(docLink);\n",
              "        }\n",
              "      </script>\n",
              "    </div>\n",
              "  </div>\n",
              "  "
            ]
          },
          "metadata": {},
          "execution_count": 36
        }
      ],
      "source": [
        "#First choice: Crystal Structures Classification\n",
        "\n",
        "filename = \"/content/drive/MyDrive/Coding Dojo/Project 2/Crystal_structure.csv\"\n",
        "df = pd.read_csv(filename)\n",
        "df.tail()"
      ]
    },
    {
      "cell_type": "code",
      "source": [
        "# 1) Source of data\n",
        "#https://www.kaggle.com/datasets/sayansh001/crystal-structure-classification?select=Crystal_structure.csv"
      ],
      "metadata": {
        "id": "QwE2kXQnvIEB"
      },
      "execution_count": 37,
      "outputs": []
    },
    {
      "cell_type": "code",
      "source": [
        "# 2) Brief description of data\n",
        "# This dataset shows the numerous studies of perovskite structures. \n",
        "# An ideal perovskite has an ABX3 structure where A and B are two differently sized cations, and X is an anion. (This is not confined to one specific structure)\n",
        "# Features such as electronegativity, ionic radius, valence, and bond lengths of A-O and B-O pairs have been identified that enable a priori crystal structure prediction. \n",
        "# Each observation is used to predict the crystal structure to be either a cubic, tetragonal, orthorhombic, or rhombohedral structure."
      ],
      "metadata": {
        "id": "7d8HgiIMvKSx"
      },
      "execution_count": 38,
      "outputs": []
    },
    {
      "cell_type": "code",
      "source": [
        "# 3) What is the target?\n",
        "#Lowest Distortion "
      ],
      "metadata": {
        "id": "IWjrddWMvMSC"
      },
      "execution_count": 39,
      "outputs": []
    },
    {
      "cell_type": "code",
      "source": [
        "# 4) Is this a classification or regression problem?\n",
        "#Classification (Multi-Class)"
      ],
      "metadata": {
        "id": "ZJfwTD7jvMOF"
      },
      "execution_count": 40,
      "outputs": []
    },
    {
      "cell_type": "code",
      "source": [
        "# 5) How many features?\n",
        "# 13"
      ],
      "metadata": {
        "id": "MOMjsYt_vMIk"
      },
      "execution_count": 41,
      "outputs": []
    },
    {
      "cell_type": "code",
      "source": [
        "# 6) How many rows of data.\n",
        "df.shape #5329 rows"
      ],
      "metadata": {
        "colab": {
          "base_uri": "https://localhost:8080/"
        },
        "id": "GCy51ItfvMC1",
        "outputId": "0e1707cc-0237-4c33-ca2e-4cb087640d80"
      },
      "execution_count": 42,
      "outputs": [
        {
          "output_type": "execute_result",
          "data": {
            "text/plain": [
              "(5329, 18)"
            ]
          },
          "metadata": {},
          "execution_count": 42
        }
      ]
    },
    {
      "cell_type": "code",
      "source": [
        "# 7) What, if any, challenges do your foresee in cleaning, exploring, or modeling with this dataset?\n",
        "#There are some missing values I will have to address. \n",
        "#This is a decent sized data set and I don't want to lose data that would make the model less efficient.\n",
        "#For now the goal is to determine the different crystal structures but the challenge will be to determine which compounds have ideal structures."
      ],
      "metadata": {
        "id": "1WVITS7ovL6D"
      },
      "execution_count": 43,
      "outputs": []
    },
    {
      "cell_type": "code",
      "source": [
        "df_0 = df.copy() #original uncleaned dataset\n",
        "#delete unnecessary columns\n",
        "#I feel that \"Compound\" should be dropped. The A and B column state the two different elements and oxygen is in all the compounds so that becomes redundant.\n",
        "#It is easier to determine the compund given the two elements and the structure.\n",
        "#I also feel that \"In Literature\" is an unnessecary column. How will knowing if this compound is in literature help predict the structure? \n",
        "#It most likely won't. \n",
        "#All other columns are measurements within the compound that aid in determining the structure shape\n",
        "df.drop(columns=[\"Compound\",\"In literature\"], inplace = True)"
      ],
      "metadata": {
        "id": "Ai16pJtyjVLC"
      },
      "execution_count": 44,
      "outputs": []
    },
    {
      "cell_type": "code",
      "source": [
        "#delete duplicate rows\n",
        "df.duplicated().sum()"
      ],
      "metadata": {
        "id": "lgScLBxHz6Bg",
        "colab": {
          "base_uri": "https://localhost:8080/"
        },
        "outputId": "11034bfd-0311-4f23-c454-1b15961eb8bc"
      },
      "execution_count": 45,
      "outputs": [
        {
          "output_type": "execute_result",
          "data": {
            "text/plain": [
              "0"
            ]
          },
          "metadata": {},
          "execution_count": 45
        }
      ]
    },
    {
      "cell_type": "code",
      "source": [
        "df.info()"
      ],
      "metadata": {
        "colab": {
          "base_uri": "https://localhost:8080/"
        },
        "id": "Lru4ICXaQ3Rn",
        "outputId": "f433bcaa-8041-4579-8281-f6d3ba05d795"
      },
      "execution_count": 46,
      "outputs": [
        {
          "output_type": "stream",
          "name": "stdout",
          "text": [
            "<class 'pandas.core.frame.DataFrame'>\n",
            "RangeIndex: 5329 entries, 0 to 5328\n",
            "Data columns (total 16 columns):\n",
            " #   Column             Non-Null Count  Dtype  \n",
            "---  ------             --------------  -----  \n",
            " 0   A                  5329 non-null   object \n",
            " 1   B                  5329 non-null   object \n",
            " 2   v(A)               5329 non-null   object \n",
            " 3   v(B)               5329 non-null   object \n",
            " 4   r(AXII)(Å)         5329 non-null   float64\n",
            " 5   r(AVI)(Å)          5329 non-null   float64\n",
            " 6   r(BVI)(Å)          5329 non-null   float64\n",
            " 7   EN(A)              5329 non-null   float64\n",
            " 8   EN(B)              5329 non-null   float64\n",
            " 9   l(A-O)(Å)          5329 non-null   float64\n",
            " 10  l(B-O)(Å)          5329 non-null   float64\n",
            " 11  ΔENR               5329 non-null   float64\n",
            " 12  tG                 5329 non-null   float64\n",
            " 13  τ                  5329 non-null   object \n",
            " 14  μ                  5329 non-null   float64\n",
            " 15  Lowest distortion  5329 non-null   object \n",
            "dtypes: float64(10), object(6)\n",
            "memory usage: 666.2+ KB\n"
          ]
        }
      ]
    },
    {
      "cell_type": "code",
      "source": [
        "#identify and addressed missing values \n",
        "df.isna().sum() \n",
        "#technically there are no missing values (NaN) but there are cells with a place holder (-)\n",
        "#I am unsure if the dash will mess up the model.\n",
        "\n",
        "(df == \"-\").sum()\n",
        "\n",
        "#I am assuming that the valencies of a & b are missing for the same compund. \n",
        "# inputting each valency will take a long time and imputing causes errors in the data. \n",
        "# dropping the row will remove a lot of info from the data but 3000 rows is still good.\n",
        "# I will first try dropping the rows, then the columns, then encoding to find the best result   \n",
        "df = df[df['v(A)'] != '-']\n",
        "df = df[df['v(B)'] != '-']\n",
        "\n",
        "# I am also going to drop the tau colomn because more than half of the data is missing.\n",
        "df.drop(columns=\"τ\", inplace = True)\n",
        "\n",
        "#I will leave the missing data as a new class in lower distortion. \n",
        "#with further investigation, maybe the model can determine what the structure is."
      ],
      "metadata": {
        "id": "W3cnFOI20CA9"
      },
      "execution_count": 47,
      "outputs": []
    },
    {
      "cell_type": "code",
      "source": [
        "#identified and corrected inconsistencies in data for categorical values (i.e. Cat, cat, cats)\n",
        "#the only categorical column in the target column \"lowest distortion\"\n",
        "df[\"Lowest distortion\"].value_counts()\n"
      ],
      "metadata": {
        "id": "pBUJdVx00Lqn",
        "colab": {
          "base_uri": "https://localhost:8080/"
        },
        "outputId": "0d7adfee-854c-4d42-88a8-1289246e8477"
      },
      "execution_count": 48,
      "outputs": [
        {
          "output_type": "execute_result",
          "data": {
            "text/plain": [
              "cubic           2170\n",
              "orthorhombic     968\n",
              "rhombohedral     210\n",
              "tetragonal        78\n",
              "-                 22\n",
              "Name: Lowest distortion, dtype: int64"
            ]
          },
          "metadata": {},
          "execution_count": 48
        }
      ]
    },
    {
      "cell_type": "code",
      "source": [
        "#produced univariate visuals for the target and all features\n",
        "sns.countplot(data = df, x = df[\"Lowest distortion\"]);\n",
        "#the most common class is cubic. However this does not automatically mean it is the ideal structure."
      ],
      "metadata": {
        "id": "HoJf4lpS0Nb7",
        "colab": {
          "base_uri": "https://localhost:8080/",
          "height": 279
        },
        "outputId": "9603935b-b276-423a-f925-bc6a880bdb9f"
      },
      "execution_count": 49,
      "outputs": [
        {
          "output_type": "display_data",
          "data": {
            "text/plain": [
              "<Figure size 432x288 with 1 Axes>"
            ],
            "image/png": "[encoded data removed]"
          },
          "metadata": {
            "needs_background": "light"
          }
        }
      ]
    },
    {
      "cell_type": "code",
      "source": [
        "#identified outliers\n",
        "plt.figure(figsize=(15,8))\n",
        "sns.boxplot(data = df );\n",
        "\n",
        "#I will delete the extreme outliers in the bond lengths and ENR columns"
      ],
      "metadata": {
        "id": "7PMc0Zal0Pae",
        "colab": {
          "base_uri": "https://localhost:8080/",
          "height": 484
        },
        "outputId": "c2fb9c77-ab0c-4df1-8358-51797b181631"
      },
      "execution_count": 50,
      "outputs": [
        {
          "output_type": "display_data",
          "data": {
            "text/plain": [
              "<Figure size 1080x576 with 1 Axes>"
            ],
            "image/png": "[encoded data removed]"
          },
          "metadata": {
            "needs_background": "light"
          }
        }
      ]
    },
    {
      "cell_type": "code",
      "source": [
        "df = df[df['l(A-O)(Å)'] != 0]\n",
        "df = df[df['l(B-O)(Å)'] != 0]\n",
        "df = df[df['ΔENR'] > -3.8]"
      ],
      "metadata": {
        "id": "c4GW7DK-R6ge"
      },
      "execution_count": 61,
      "outputs": []
    },
    {
      "cell_type": "code",
      "source": [
        "plt.figure(figsize=(15,8))\n",
        "sns.boxplot(data = df );"
      ],
      "metadata": {
        "colab": {
          "base_uri": "https://localhost:8080/",
          "height": 484
        },
        "id": "MmAJOshZSpd_",
        "outputId": "dfdeed81-b3a6-442e-a0d8-8f77ab8978e2"
      },
      "execution_count": 62,
      "outputs": [
        {
          "output_type": "display_data",
          "data": {
            "text/plain": [
              "<Figure size 1080x576 with 1 Axes>"
            ],
            "image/png": "[encoded data removed]"
          },
          "metadata": {
            "needs_background": "light"
          }
        }
      ]
    },
    {
      "cell_type": "code",
      "source": [
        "#produce a correlation heatmap and identify any moderate or strong correlations between your target and your features and/or between one feature and another\n",
        "plt.figure(figsize=(15,8))\n",
        "corr = df.corr()\n",
        "sns.heatmap(corr, cmap = 'Blues', annot = True); \n",
        "\n",
        "#We see that Ionic radius of A cation [r(AXII)(Å)] and Ionic radius of B cation [r(AVI)(Å)] are postively correlated (0.94)\n",
        "#We also see that the Ionic radius of X anion [r(BVI)(Å)] and the Octahedral factor [μ] are postively correlated (1)\n"
      ],
      "metadata": {
        "colab": {
          "base_uri": "https://localhost:8080/",
          "height": 488
        },
        "id": "2jiDRqd-0XUZ",
        "outputId": "91715ac6-e59b-4568-8d92-26871b8d3c98"
      },
      "execution_count": 51,
      "outputs": [
        {
          "output_type": "display_data",
          "data": {
            "text/plain": [
              "<Figure size 1080x576 with 2 Axes>"
            ],
            "image/png": "[encoded data removed]"
          },
          "metadata": {
            "needs_background": "light"
          }
        }
      ]
    }
  ]
}